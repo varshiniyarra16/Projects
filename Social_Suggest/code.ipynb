{
  "nbformat": 4,
  "nbformat_minor": 0,
  "metadata": {
    "colab": {
      "provenance": []
    },
    "kernelspec": {
      "name": "python3",
      "display_name": "Python 3"
    },
    "language_info": {
      "name": "python"
    }
  },
  "cells": [
    {
      "cell_type": "code",
      "execution_count": 6,
      "metadata": {
        "colab": {
          "base_uri": "https://localhost:8080/"
        },
        "id": "pXiHA8VpD_oA",
        "outputId": "997d6c01-afcf-439f-ac8a-4289ca54b210"
      },
      "outputs": [
        {
          "output_type": "stream",
          "name": "stdout",
          "text": [
            "Shape of User Similarity Matrix: (2157, 2157)\n",
            "Recommendation 1: Title: Proactive human-resource function, Genre: Sandbox, Type: Game\n",
            "Recommendation 2: Title: Function-based intangible standardization, Genre: Party, Type: Game\n",
            "Recommendation 3: Title: Halo: Combat Evolved, Genre: First-Person Shooter, Type: Game\n",
            "Recommendation 4: Title: Persevering homogeneous encoding, Genre: Horror, Type: Game\n",
            "Recommendation 5: Title: Function-based regional adapter, Genre: Racing, Type: Game\n",
            "Recommendation 6: Title: Profound human-resource model, Genre: Fighting, Type: Game\n",
            "Recommendation 7: Title: Expanded discrete info-mediaries, Genre: Simulation, Type: Game\n",
            "Recommendation 8: Title: Monitored value-added focus group, Genre: Educational, Type: Game\n",
            "Recommendation 9: Title: Face-to-face asynchronous functionalities, Genre: Fighting, Type: Game\n",
            "Recommendation 10: Title: Persistent responsive solution, Genre: Strategy, Type: Game\n"
          ]
        },
        {
          "output_type": "stream",
          "name": "stderr",
          "text": [
            "/usr/local/lib/python3.10/dist-packages/sklearn/base.py:439: UserWarning: X does not have valid feature names, but StandardScaler was fitted with feature names\n",
            "  warnings.warn(\n"
          ]
        }
      ],
      "source": [
        "\n",
        "import pandas as pd\n",
        "import numpy as np\n",
        "from sklearn.metrics.pairwise import cosine_similarity\n",
        "from sklearn.preprocessing import StandardScaler, OneHotEncoder\n",
        "\n",
        "# Load the dataset\n",
        "data = pd.read_csv(\"/content/Entertainment_Recommendation_upd.csv\", encoding='latin1')\n",
        "\n",
        "# Extract user demographics\n",
        "user_demographics = data[['User ID', 'Age', 'Gender']].drop_duplicates()\n",
        "\n",
        "# One-hot encode Gender\n",
        "encoder_gender = OneHotEncoder()\n",
        "gender_encoded = encoder_gender.fit_transform(user_demographics[['Gender']]).toarray()\n",
        "\n",
        "# Standardize Age\n",
        "scaler_age = StandardScaler()\n",
        "age_scaled = scaler_age.fit_transform(user_demographics[['Age']])\n",
        "\n",
        "# Combine all user features into a single DataFrame\n",
        "user_features = pd.DataFrame(np.hstack((gender_encoded, age_scaled)), index=user_demographics['User ID'])\n",
        "\n",
        "# Create user-item matrix\n",
        "user_item_matrix = pd.pivot_table(data, values='Rating', index='User ID', columns='Item ID', fill_value=0)\n",
        "\n",
        "# Ensure user features and user-item matrix have the same set of users\n",
        "common_users = user_features.index.intersection(user_item_matrix.index)\n",
        "user_features = user_features.loc[common_users]\n",
        "user_item_matrix = user_item_matrix.loc[common_users]\n",
        "\n",
        "# Compute user similarities based on demographics\n",
        "user_similarities = cosine_similarity(user_features)\n",
        "print(\"Shape of User Similarity Matrix:\", user_similarities.shape)\n",
        "\n",
        "# Predict ratings using demographic similarities\n",
        "def predict_ratings(user_item_matrix, user_similarities):\n",
        "    denominator = np.sum(user_similarities, axis=1)\n",
        "    numerator = np.dot(user_similarities, user_item_matrix)\n",
        "    denominator_reshaped = denominator[:, np.newaxis]\n",
        "    predicted_ratings = np.divide(numerator, denominator_reshaped, out=np.zeros_like(numerator), where=(denominator_reshaped != 0))\n",
        "    return predicted_ratings\n",
        "\n",
        "predicted_ratings = predict_ratings(user_item_matrix, user_similarities)\n",
        "\n",
        "# Function to get item info (title, genre, type)\n",
        "def get_item_info(item_id):\n",
        "    item_data = data[data['Item ID'] == item_id]\n",
        "    if not item_data.empty:\n",
        "        title = item_data['Title'].values[0]\n",
        "        genre = item_data['Genre'].values[0]\n",
        "        item_type = item_data['Type'].values[0]  # Assuming there is a 'Type' column\n",
        "        return title, genre, item_type\n",
        "    return \"Unknown Title\", \"Unknown Genre\", \"Unknown Type\"\n",
        "\n",
        "# Function to generate recommendations based on demographic information and filter by type\n",
        "def generate_recommendations_for_demo(user_features, user_item_matrix, target_user_demo, desired_type, top_n=10):\n",
        "    target_demo_sim = cosine_similarity([target_user_demo], user_features)[0]\n",
        "    numerator = np.dot(target_demo_sim, user_item_matrix)\n",
        "    denominator = np.sum(target_demo_sim)\n",
        "    predicted_ratings_for_demo = numerator / denominator\n",
        "\n",
        "    top_indices = np.argsort(predicted_ratings_for_demo)[::-1]\n",
        "\n",
        "    top_items = []\n",
        "    for i in top_indices:\n",
        "        item_id = user_item_matrix.columns[i]\n",
        "        title, genre, item_type = get_item_info(item_id)\n",
        "        if item_type == desired_type:\n",
        "            top_items.append((item_id, title, genre, item_type))\n",
        "        if len(top_items) >= top_n:\n",
        "            break\n",
        "\n",
        "    return top_items\n",
        "\n",
        "# Example target demographic: age=30, gender='Male'\n",
        "target_demo = np.array([1, 0, 54])  # Assuming 0 is Female and 1 is Male after one-hot encoding\n",
        "\n",
        "# Standardize the age feature\n",
        "target_demo[2] = scaler_age.transform([[target_demo[2]]])[0, 0]\n",
        "\n",
        "# Desired type: for example, 'Movie'\n",
        "desired_type = 'Game'\n",
        "\n",
        "# Generate recommendations\n",
        "top_items = generate_recommendations_for_demo(user_features.values, user_item_matrix, target_demo, desired_type)\n",
        "for i, (item_id, title, genre, item_type) in enumerate(top_items, 1):\n",
        "    print(f\"Recommendation {i}: Title: {title}, Genre: {genre}, Type: {item_type}\")"
      ]
    },
    {
      "cell_type": "code",
      "source": [],
      "metadata": {
        "id": "kIooZujNEXdL"
      },
      "execution_count": null,
      "outputs": []
    }
  ]
}